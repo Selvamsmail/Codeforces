{
 "cells": [
  {
   "cell_type": "code",
   "execution_count": 1,
   "id": "6eed6799",
   "metadata": {},
   "outputs": [],
   "source": [
    "import os\n",
    "import re\n",
    "import cloudscraper\n",
    "from bs4 import BeautifulSoup\n",
    "import pandas as pd\n",
    "\n",
    "url = f\"https://codeforces.com/api/problemset.problems\"\n",
    "scraper = cloudscraper.create_scraper()\n",
    "response = scraper.get(url)\n",
    "data = response.json()"
   ]
  },
  {
   "cell_type": "code",
   "execution_count": 12,
   "id": "55d1bd2c",
   "metadata": {},
   "outputs": [],
   "source": [
    "df = pd.DataFrame(data['result']['problems'])"
   ]
  },
  {
   "cell_type": "code",
   "execution_count": 13,
   "id": "89dc30c6",
   "metadata": {},
   "outputs": [],
   "source": [
    "for i, tags_list in df['tags'].items():\n",
    "    for tag in tags_list:\n",
    "        df.at[i, f't-{tag}'] = 1"
   ]
  },
  {
   "cell_type": "code",
   "execution_count": 15,
   "id": "5f0d78cd",
   "metadata": {},
   "outputs": [],
   "source": [
    "del df['tags']"
   ]
  },
  {
   "cell_type": "code",
   "execution_count": 22,
   "id": "829902d9",
   "metadata": {},
   "outputs": [],
   "source": [
    "for col in [c for c in df.columns if 't-' in c]:\n",
    "    df[col] = df[col].fillna(0)"
   ]
  },
  {
   "cell_type": "code",
   "execution_count": 24,
   "id": "89136f66",
   "metadata": {},
   "outputs": [],
   "source": [
    "df.to_csv('problems.csv', index = False)"
   ]
  }
 ],
 "metadata": {
  "kernelspec": {
   "display_name": "env",
   "language": "python",
   "name": "python3"
  },
  "language_info": {
   "codemirror_mode": {
    "name": "ipython",
    "version": 3
   },
   "file_extension": ".py",
   "mimetype": "text/x-python",
   "name": "python",
   "nbconvert_exporter": "python",
   "pygments_lexer": "ipython3",
   "version": "3.12.3"
  }
 },
 "nbformat": 4,
 "nbformat_minor": 5
}
